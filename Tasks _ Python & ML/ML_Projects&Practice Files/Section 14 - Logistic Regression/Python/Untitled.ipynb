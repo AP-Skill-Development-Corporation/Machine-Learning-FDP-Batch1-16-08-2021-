{
 "cells": [
  {
   "cell_type": "markdown",
   "metadata": {},
   "source": [
    "# Import the libraries"
   ]
  },
  {
   "cell_type": "code",
   "execution_count": 1,
   "metadata": {},
   "outputs": [
    {
     "name": "stderr",
     "output_type": "stream",
     "text": [
      "C:\\Users\\matix\\.conda\\envs\\fusion\\lib\\importlib\\_bootstrap.py:219: RuntimeWarning: numpy.ufunc size changed, may indicate binary incompatibility. Expected 192 from C header, got 216 from PyObject\n",
      "  return f(*args, **kwds)\n"
     ]
    }
   ],
   "source": [
    "import numpy as np\n",
    "import matplotlib.pyplot as plt\n",
    "import pandas as pd"
   ]
  },
  {
   "cell_type": "code",
   "execution_count": 2,
   "metadata": {},
   "outputs": [],
   "source": [
    "dataset = pd.read_csv('Social_Network_Ads.csv')"
   ]
  },
  {
   "cell_type": "code",
   "execution_count": 3,
   "metadata": {},
   "outputs": [
    {
     "data": {
      "text/html": [
       "<div>\n",
       "<style scoped>\n",
       "    .dataframe tbody tr th:only-of-type {\n",
       "        vertical-align: middle;\n",
       "    }\n",
       "\n",
       "    .dataframe tbody tr th {\n",
       "        vertical-align: top;\n",
       "    }\n",
       "\n",
       "    .dataframe thead th {\n",
       "        text-align: right;\n",
       "    }\n",
       "</style>\n",
       "<table border=\"1\" class=\"dataframe\">\n",
       "  <thead>\n",
       "    <tr style=\"text-align: right;\">\n",
       "      <th></th>\n",
       "      <th>Age</th>\n",
       "      <th>EstimatedSalary</th>\n",
       "      <th>Purchased</th>\n",
       "    </tr>\n",
       "  </thead>\n",
       "  <tbody>\n",
       "    <tr>\n",
       "      <th>0</th>\n",
       "      <td>19</td>\n",
       "      <td>19000</td>\n",
       "      <td>0</td>\n",
       "    </tr>\n",
       "    <tr>\n",
       "      <th>1</th>\n",
       "      <td>35</td>\n",
       "      <td>20000</td>\n",
       "      <td>0</td>\n",
       "    </tr>\n",
       "    <tr>\n",
       "      <th>2</th>\n",
       "      <td>26</td>\n",
       "      <td>43000</td>\n",
       "      <td>0</td>\n",
       "    </tr>\n",
       "    <tr>\n",
       "      <th>3</th>\n",
       "      <td>27</td>\n",
       "      <td>57000</td>\n",
       "      <td>0</td>\n",
       "    </tr>\n",
       "    <tr>\n",
       "      <th>4</th>\n",
       "      <td>19</td>\n",
       "      <td>76000</td>\n",
       "      <td>0</td>\n",
       "    </tr>\n",
       "    <tr>\n",
       "      <th>...</th>\n",
       "      <td>...</td>\n",
       "      <td>...</td>\n",
       "      <td>...</td>\n",
       "    </tr>\n",
       "    <tr>\n",
       "      <th>395</th>\n",
       "      <td>46</td>\n",
       "      <td>41000</td>\n",
       "      <td>1</td>\n",
       "    </tr>\n",
       "    <tr>\n",
       "      <th>396</th>\n",
       "      <td>51</td>\n",
       "      <td>23000</td>\n",
       "      <td>1</td>\n",
       "    </tr>\n",
       "    <tr>\n",
       "      <th>397</th>\n",
       "      <td>50</td>\n",
       "      <td>20000</td>\n",
       "      <td>1</td>\n",
       "    </tr>\n",
       "    <tr>\n",
       "      <th>398</th>\n",
       "      <td>36</td>\n",
       "      <td>33000</td>\n",
       "      <td>0</td>\n",
       "    </tr>\n",
       "    <tr>\n",
       "      <th>399</th>\n",
       "      <td>49</td>\n",
       "      <td>36000</td>\n",
       "      <td>1</td>\n",
       "    </tr>\n",
       "  </tbody>\n",
       "</table>\n",
       "<p>400 rows × 3 columns</p>\n",
       "</div>"
      ],
      "text/plain": [
       "     Age  EstimatedSalary  Purchased\n",
       "0     19            19000          0\n",
       "1     35            20000          0\n",
       "2     26            43000          0\n",
       "3     27            57000          0\n",
       "4     19            76000          0\n",
       "..   ...              ...        ...\n",
       "395   46            41000          1\n",
       "396   51            23000          1\n",
       "397   50            20000          1\n",
       "398   36            33000          0\n",
       "399   49            36000          1\n",
       "\n",
       "[400 rows x 3 columns]"
      ]
     },
     "execution_count": 3,
     "metadata": {},
     "output_type": "execute_result"
    }
   ],
   "source": [
    "dataset"
   ]
  },
  {
   "cell_type": "code",
   "execution_count": 4,
   "metadata": {},
   "outputs": [],
   "source": [
    "X = dataset.iloc[:, :-1].values"
   ]
  },
  {
   "cell_type": "code",
   "execution_count": 5,
   "metadata": {},
   "outputs": [],
   "source": [
    "y = dataset.iloc[:, -1].values"
   ]
  },
  {
   "cell_type": "code",
   "execution_count": 7,
   "metadata": {},
   "outputs": [
    {
     "data": {
      "text/plain": [
       "array([0, 0, 0, 0, 0, 0, 0, 1, 0, 0, 0, 0, 0, 0, 0, 0, 1, 1, 1, 1, 1, 1,\n",
       "       1, 1, 1, 1, 1, 1, 0, 0, 0, 1, 0, 0, 0, 0, 0, 0, 0, 0, 0, 0, 0, 0,\n",
       "       0, 0, 0, 0, 1, 0, 0, 0, 0, 0, 0, 0, 0, 0, 0, 0, 0, 0, 0, 1, 0, 0,\n",
       "       0, 0, 0, 0, 0, 0, 0, 0, 0, 1, 0, 0, 0, 0, 0, 0, 0, 0, 0, 1, 0, 0,\n",
       "       0, 0, 0, 0, 0, 0, 0, 0, 0, 1, 0, 0, 0, 0, 0, 1, 0, 0, 0, 0, 0, 0,\n",
       "       0, 0, 0, 0, 0, 0, 0, 0, 0, 0, 0, 0, 0, 0, 0, 0, 0, 0, 0, 0, 0, 0,\n",
       "       0, 0, 0, 0, 0, 1, 0, 0, 0, 0, 0, 0, 0, 0, 1, 0, 0, 0, 0, 0, 0, 0,\n",
       "       0, 0, 0, 0, 0, 1, 1, 0, 0, 0, 0, 0, 0, 0, 1, 0, 0, 0, 0, 0, 0, 0,\n",
       "       0, 0, 0, 0, 0, 0, 1, 0, 0, 0, 0, 0, 0, 0, 0, 0, 0, 0, 0, 0, 0, 0,\n",
       "       0, 0, 0, 0, 1, 0, 1, 0, 1, 0, 1, 0, 1, 1, 0, 0, 0, 1, 0, 0, 0, 1,\n",
       "       0, 1, 1, 1, 0, 0, 1, 1, 0, 1, 1, 0, 1, 1, 0, 1, 0, 0, 0, 1, 1, 0,\n",
       "       1, 1, 0, 1, 0, 1, 0, 1, 0, 0, 1, 1, 0, 1, 0, 0, 1, 1, 0, 1, 1, 0,\n",
       "       1, 1, 0, 0, 1, 0, 0, 1, 1, 1, 1, 1, 0, 1, 1, 1, 1, 0, 1, 1, 0, 1,\n",
       "       0, 1, 0, 1, 1, 1, 1, 0, 0, 0, 1, 1, 0, 1, 1, 1, 1, 1, 0, 0, 0, 1,\n",
       "       1, 0, 0, 1, 0, 1, 0, 1, 1, 0, 1, 0, 1, 1, 0, 1, 1, 0, 0, 0, 1, 1,\n",
       "       0, 1, 0, 0, 1, 0, 1, 0, 0, 1, 1, 0, 0, 1, 1, 0, 1, 1, 0, 0, 1, 0,\n",
       "       1, 0, 1, 1, 1, 0, 1, 0, 1, 1, 1, 0, 1, 1, 1, 1, 0, 1, 1, 1, 0, 1,\n",
       "       0, 1, 0, 0, 1, 1, 0, 1, 1, 1, 1, 1, 1, 0, 1, 1, 1, 1, 1, 1, 0, 1,\n",
       "       1, 1, 0, 1], dtype=int64)"
      ]
     },
     "execution_count": 7,
     "metadata": {},
     "output_type": "execute_result"
    }
   ],
   "source": [
    "y"
   ]
  },
  {
   "cell_type": "markdown",
   "metadata": {},
   "source": [
    "# Split the data into Training & test set"
   ]
  },
  {
   "cell_type": "code",
   "execution_count": 9,
   "metadata": {},
   "outputs": [],
   "source": [
    "from sklearn.model_selection import train_test_split"
   ]
  },
  {
   "cell_type": "code",
   "execution_count": 10,
   "metadata": {},
   "outputs": [],
   "source": [
    "X_train, X_test, y_train, y_test = train_test_split(X, y, test_size = .25) "
   ]
  },
  {
   "cell_type": "code",
   "execution_count": 11,
   "metadata": {},
   "outputs": [
    {
     "data": {
      "text/plain": [
       "array([[    45,  26000],\n",
       "       [    47,  49000],\n",
       "       [    48, 131000],\n",
       "       [    52,  90000],\n",
       "       [    26,  16000],\n",
       "       [    49,  86000],\n",
       "       [    28,  79000],\n",
       "       [    46,  22000],\n",
       "       [    35, 108000],\n",
       "       [    47,  47000],\n",
       "       [    47,  30000],\n",
       "       [    37,  93000],\n",
       "       [    35,  72000],\n",
       "       [    35,  27000],\n",
       "       [    40,  59000],\n",
       "       [    32, 100000],\n",
       "       [    48,  33000],\n",
       "       [    42,  70000],\n",
       "       [    60,  34000],\n",
       "       [    40,  57000],\n",
       "       [    39,  59000],\n",
       "       [    20,  74000],\n",
       "       [    32,  18000],\n",
       "       [    41,  59000],\n",
       "       [    34,  72000],\n",
       "       [    26,  84000],\n",
       "       [    35,  57000],\n",
       "       [    38,  55000],\n",
       "       [    25,  79000],\n",
       "       [    58,  23000],\n",
       "       [    37,  53000],\n",
       "       [    46, 117000],\n",
       "       [    46,  23000],\n",
       "       [    60,  46000],\n",
       "       [    54, 104000],\n",
       "       [    23,  28000],\n",
       "       [    35,  25000],\n",
       "       [    60, 108000],\n",
       "       [    25,  87000],\n",
       "       [    27,  20000],\n",
       "       [    29,  83000],\n",
       "       [    35,  65000],\n",
       "       [    26,  72000],\n",
       "       [    24,  89000],\n",
       "       [    21,  72000],\n",
       "       [    27,  57000],\n",
       "       [    29,  43000],\n",
       "       [    31,  34000],\n",
       "       [    46,  59000],\n",
       "       [    42,  90000],\n",
       "       [    19,  76000],\n",
       "       [    46,  32000],\n",
       "       [    45,  22000],\n",
       "       [    48,  74000],\n",
       "       [    46,  88000],\n",
       "       [    37,  57000],\n",
       "       [    26,  17000],\n",
       "       [    37,  74000],\n",
       "       [    31,  18000],\n",
       "       [    20,  82000],\n",
       "       [    57,  33000],\n",
       "       [    29,  61000],\n",
       "       [    41,  52000],\n",
       "       [    49,  88000],\n",
       "       [    50,  88000],\n",
       "       [    49,  65000],\n",
       "       [    52,  21000],\n",
       "       [    51, 146000],\n",
       "       [    39,  79000],\n",
       "       [    39,  77000],\n",
       "       [    57,  26000],\n",
       "       [    40,  61000],\n",
       "       [    35,  72000],\n",
       "       [    29,  47000],\n",
       "       [    24,  58000],\n",
       "       [    55, 130000],\n",
       "       [    35,  61000],\n",
       "       [    59, 143000],\n",
       "       [    33,  60000],\n",
       "       [    49, 141000],\n",
       "       [    38,  51000],\n",
       "       [    31,  15000],\n",
       "       [    36, 125000],\n",
       "       [    59,  76000],\n",
       "       [    47,  51000],\n",
       "       [    41,  63000],\n",
       "       [    59,  42000],\n",
       "       [    28, 123000],\n",
       "       [    35,  58000],\n",
       "       [    46,  28000],\n",
       "       [    38,  71000],\n",
       "       [    41,  30000],\n",
       "       [    25,  80000],\n",
       "       [    33,  28000],\n",
       "       [    19,  70000],\n",
       "       [    46,  79000],\n",
       "       [    35,  60000],\n",
       "       [    33, 113000],\n",
       "       [    39,  71000],\n",
       "       [    19,  26000],\n",
       "       [    35,  55000],\n",
       "       [    48,  29000],\n",
       "       [    42,  73000],\n",
       "       [    41,  60000],\n",
       "       [    47,  43000],\n",
       "       [    46,  74000],\n",
       "       [    39, 134000],\n",
       "       [    41,  72000],\n",
       "       [    26, 118000],\n",
       "       [    40,  72000],\n",
       "       [    42,  65000],\n",
       "       [    18,  86000],\n",
       "       [    44,  39000],\n",
       "       [    41,  72000],\n",
       "       [    43, 129000],\n",
       "       [    35,  88000],\n",
       "       [    42,  79000],\n",
       "       [    44, 139000],\n",
       "       [    28,  32000],\n",
       "       [    28,  89000],\n",
       "       [    37, 137000],\n",
       "       [    28,  59000],\n",
       "       [    59, 130000],\n",
       "       [    36,  99000],\n",
       "       [    40,  75000],\n",
       "       [    49,  39000],\n",
       "       [    53, 104000],\n",
       "       [    27,  31000],\n",
       "       [    18,  68000],\n",
       "       [    47,  50000],\n",
       "       [    35,  91000],\n",
       "       [    36, 144000],\n",
       "       [    35,  77000],\n",
       "       [    33,  51000],\n",
       "       [    47, 105000],\n",
       "       [    38,  65000],\n",
       "       [    60, 102000],\n",
       "       [    30, 135000],\n",
       "       [    48,  41000],\n",
       "       [    39,  71000],\n",
       "       [    53,  82000],\n",
       "       [    28,  59000],\n",
       "       [    42,  53000],\n",
       "       [    38,  61000],\n",
       "       [    41,  72000],\n",
       "       [    42, 104000],\n",
       "       [    42,  80000],\n",
       "       [    54, 108000],\n",
       "       [    32, 117000],\n",
       "       [    42,  64000],\n",
       "       [    40,  71000],\n",
       "       [    57,  60000],\n",
       "       [    34, 115000],\n",
       "       [    26,  32000],\n",
       "       [    36,  75000],\n",
       "       [    31,  76000],\n",
       "       [    28,  55000],\n",
       "       [    35, 147000],\n",
       "       [    26,  35000],\n",
       "       [    37, 146000],\n",
       "       [    29,  75000],\n",
       "       [    42,  54000],\n",
       "       [    19,  85000],\n",
       "       [    25,  33000],\n",
       "       [    28,  87000],\n",
       "       [    37,  70000],\n",
       "       [    48,  33000],\n",
       "       [    39,  42000],\n",
       "       [    35,  44000],\n",
       "       [    28,  84000],\n",
       "       [    58,  38000],\n",
       "       [    55, 125000],\n",
       "       [    48, 138000],\n",
       "       [    41,  87000],\n",
       "       [    41,  71000],\n",
       "       [    30,  80000],\n",
       "       [    59,  88000],\n",
       "       [    58, 144000],\n",
       "       [    35,  47000],\n",
       "       [    40,  57000],\n",
       "       [    35,  50000],\n",
       "       [    30, 116000],\n",
       "       [    37,  79000],\n",
       "       [    24,  32000],\n",
       "       [    21,  16000],\n",
       "       [    27,  54000],\n",
       "       [    49,  74000],\n",
       "       [    27,  96000],\n",
       "       [    37,  78000],\n",
       "       [    53, 143000],\n",
       "       [    39, 134000],\n",
       "       [    47, 144000],\n",
       "       [    35,  39000],\n",
       "       [    38, 112000],\n",
       "       [    35,  75000],\n",
       "       [    39, 106000],\n",
       "       [    22,  18000],\n",
       "       [    30,  17000],\n",
       "       [    48, 119000],\n",
       "       [    23,  63000],\n",
       "       [    60,  42000],\n",
       "       [    30,  15000],\n",
       "       [    52, 150000],\n",
       "       [    40,  78000],\n",
       "       [    37,  80000],\n",
       "       [    35,  97000],\n",
       "       [    49,  36000],\n",
       "       [    35,  75000],\n",
       "       [    38,  71000],\n",
       "       [    35,  79000],\n",
       "       [    27,  17000],\n",
       "       [    38,  61000],\n",
       "       [    35,  20000],\n",
       "       [    38, 113000],\n",
       "       [    36, 118000],\n",
       "       [    18,  44000],\n",
       "       [    52, 138000],\n",
       "       [    47,  25000],\n",
       "       [    31,  66000],\n",
       "       [    37,  33000],\n",
       "       [    41,  72000],\n",
       "       [    41,  80000],\n",
       "       [    41,  52000],\n",
       "       [    26,  80000],\n",
       "       [    26,  30000],\n",
       "       [    40,  60000],\n",
       "       [    33, 149000],\n",
       "       [    47,  34000],\n",
       "       [    32,  86000],\n",
       "       [    30,  79000],\n",
       "       [    48, 141000],\n",
       "       [    23,  20000],\n",
       "       [    27,  84000],\n",
       "       [    21,  88000],\n",
       "       [    30,  62000],\n",
       "       [    36, 126000],\n",
       "       [    48,  30000],\n",
       "       [    27,  88000],\n",
       "       [    37,  72000],\n",
       "       [    33,  31000],\n",
       "       [    59,  83000],\n",
       "       [    31,  89000],\n",
       "       [    37,  80000],\n",
       "       [    36,  60000],\n",
       "       [    31,  68000],\n",
       "       [    23,  48000],\n",
       "       [    55,  39000],\n",
       "       [    31,  74000],\n",
       "       [    56, 133000],\n",
       "       [    43, 112000],\n",
       "       [    33,  41000],\n",
       "       [    19,  21000],\n",
       "       [    39,  61000],\n",
       "       [    27,  89000],\n",
       "       [    27, 137000],\n",
       "       [    26,  43000],\n",
       "       [    50,  20000],\n",
       "       [    47, 113000],\n",
       "       [    43, 133000],\n",
       "       [    19,  25000],\n",
       "       [    35,  22000],\n",
       "       [    42, 149000],\n",
       "       [    51, 134000],\n",
       "       [    45,  79000],\n",
       "       [    24,  55000],\n",
       "       [    50,  36000],\n",
       "       [    33,  43000],\n",
       "       [    58, 101000],\n",
       "       [    37,  75000],\n",
       "       [    24,  55000],\n",
       "       [    31,  58000],\n",
       "       [    22,  27000],\n",
       "       [    24,  84000],\n",
       "       [    42,  65000],\n",
       "       [    35,  59000],\n",
       "       [    30, 107000],\n",
       "       [    37, 144000],\n",
       "       [    47,  20000],\n",
       "       [    46,  82000],\n",
       "       [    19,  19000],\n",
       "       [    31,  71000],\n",
       "       [    52,  38000],\n",
       "       [    20,  86000],\n",
       "       [    49,  28000],\n",
       "       [    54,  70000],\n",
       "       [    41,  79000],\n",
       "       [    38,  80000],\n",
       "       [    24,  23000],\n",
       "       [    26,  15000],\n",
       "       [    45,  22000],\n",
       "       [    27,  58000],\n",
       "       [    21,  68000],\n",
       "       [    26,  52000],\n",
       "       [    49,  28000],\n",
       "       [    35,  73000],\n",
       "       [    35,  53000],\n",
       "       [    36,  52000],\n",
       "       [    22,  81000],\n",
       "       [    26,  80000],\n",
       "       [    49,  89000]], dtype=int64)"
      ]
     },
     "execution_count": 11,
     "metadata": {},
     "output_type": "execute_result"
    }
   ],
   "source": []
  },
  {
   "cell_type": "code",
   "execution_count": 12,
   "metadata": {},
   "outputs": [],
   "source": [
    "from sklearn.preprocessing import StandardScaler\n",
    "sc = StandardScaler()"
   ]
  },
  {
   "cell_type": "code",
   "execution_count": 13,
   "metadata": {},
   "outputs": [],
   "source": [
    "X_train = sc.fit_transform(X_train)\n",
    "X_test = sc.transform(X_test)"
   ]
  },
  {
   "cell_type": "code",
   "execution_count": 16,
   "metadata": {},
   "outputs": [],
   "source": [
    "from sklearn.linear_model import LogisticRegression\n",
    "classifier = LogisticRegression(random_state=0)"
   ]
  },
  {
   "cell_type": "code",
   "execution_count": 17,
   "metadata": {},
   "outputs": [
    {
     "data": {
      "text/plain": [
       "LogisticRegression(C=1.0, class_weight=None, dual=False, fit_intercept=True,\n",
       "                   intercept_scaling=1, l1_ratio=None, max_iter=100,\n",
       "                   multi_class='auto', n_jobs=None, penalty='l2',\n",
       "                   random_state=0, solver='lbfgs', tol=0.0001, verbose=0,\n",
       "                   warm_start=False)"
      ]
     },
     "execution_count": 17,
     "metadata": {},
     "output_type": "execute_result"
    }
   ],
   "source": [
    "classifier.fit(X_train, y_train)"
   ]
  },
  {
   "cell_type": "code",
   "execution_count": 19,
   "metadata": {},
   "outputs": [
    {
     "name": "stdout",
     "output_type": "stream",
     "text": [
      "[1]\n"
     ]
    }
   ],
   "source": [
    "print(classifier.predict(sc.transform([[49, 36000]])))"
   ]
  },
  {
   "cell_type": "code",
   "execution_count": 22,
   "metadata": {},
   "outputs": [],
   "source": [
    "y_pred = classifier.predict(X_test)"
   ]
  },
  {
   "cell_type": "code",
   "execution_count": 25,
   "metadata": {},
   "outputs": [],
   "source": [
    "from sklearn.metrics import confusion_matrix, accuracy_score"
   ]
  },
  {
   "cell_type": "code",
   "execution_count": 23,
   "metadata": {},
   "outputs": [],
   "source": [
    "cm = confusion_matrix(y_test, y_pred)"
   ]
  },
  {
   "cell_type": "code",
   "execution_count": 24,
   "metadata": {},
   "outputs": [
    {
     "name": "stdout",
     "output_type": "stream",
     "text": [
      "[[61  4]\n",
      " [11 24]]\n"
     ]
    }
   ],
   "source": [
    "print(cm)"
   ]
  },
  {
   "cell_type": "markdown",
   "metadata": {},
   "source": [
    "# 0 - Not Purchased,  1 - Purchased  "
   ]
  },
  {
   "cell_type": "code",
   "execution_count": 26,
   "metadata": {},
   "outputs": [
    {
     "data": {
      "text/plain": [
       "0.85"
      ]
     },
     "execution_count": 26,
     "metadata": {},
     "output_type": "execute_result"
    }
   ],
   "source": [
    "accuracy_score(y_test, y_pred)"
   ]
  },
  {
   "cell_type": "code",
   "execution_count": 27,
   "metadata": {},
   "outputs": [
    {
     "name": "stderr",
     "output_type": "stream",
     "text": [
      "'c' argument looks like a single numeric RGB or RGBA sequence, which should be avoided as value-mapping will have precedence in case its length matches with 'x' & 'y'.  Please use a 2-D array with a single row if you really want to specify the same RGB or RGBA value for all points.\n",
      "'c' argument looks like a single numeric RGB or RGBA sequence, which should be avoided as value-mapping will have precedence in case its length matches with 'x' & 'y'.  Please use a 2-D array with a single row if you really want to specify the same RGB or RGBA value for all points.\n"
     ]
    },
    {
     "data": {
      "image/png": "[encoded data removed]",
      "text/plain": [
       "<Figure size 432x288 with 1 Axes>"
      ]
     },
     "metadata": {
      "needs_background": "light"
     },
     "output_type": "display_data"
    }
   ],
   "source": [
    "from matplotlib.colors import ListedColormap\n",
    "X_set, y_set = sc.inverse_transform(X_train), y_train\n",
    "X1, X2 = np.meshgrid(np.arange(start = X_set[:, 0].min() - 10, stop = X_set[:, 0].max() + 10, step = 0.25),\n",
    "                     np.arange(start = X_set[:, 1].min() - 1000, stop = X_set[:, 1].max() + 1000, step = 0.25))\n",
    "plt.contourf(X1, X2, classifier.predict(sc.transform(np.array([X1.ravel(), X2.ravel()]).T)).reshape(X1.shape),\n",
    "             alpha = 0.75, cmap = ListedColormap(('red', 'green')))\n",
    "plt.xlim(X1.min(), X1.max())\n",
    "plt.ylim(X2.min(), X2.max())\n",
    "for i, j in enumerate(np.unique(y_set)):\n",
    "    plt.scatter(X_set[y_set == j, 0], X_set[y_set == j, 1], c = ListedColormap(('red', 'green'))(i), label = j)\n",
    "plt.title('Logistic Regression (Training set)')\n",
    "plt.xlabel('Age')\n",
    "plt.ylabel('Estimated Salary')\n",
    "plt.legend()\n",
    "plt.show()"
   ]
  },
  {
   "cell_type": "code",
   "execution_count": 28,
   "metadata": {},
   "outputs": [
    {
     "name": "stderr",
     "output_type": "stream",
     "text": [
      "'c' argument looks like a single numeric RGB or RGBA sequence, which should be avoided as value-mapping will have precedence in case its length matches with 'x' & 'y'.  Please use a 2-D array with a single row if you really want to specify the same RGB or RGBA value for all points.\n",
      "'c' argument looks like a single numeric RGB or RGBA sequence, which should be avoided as value-mapping will have precedence in case its length matches with 'x' & 'y'.  Please use a 2-D array with a single row if you really want to specify the same RGB or RGBA value for all points.\n"
     ]
    },
    {
     "data": {
      "image/png": "[encoded data removed]",
      "text/plain": [
       "<Figure size 432x288 with 1 Axes>"
      ]
     },
     "metadata": {
      "needs_background": "light"
     },
     "output_type": "display_data"
    }
   ],
   "source": [
    "from matplotlib.colors import ListedColormap\n",
    "X_set, y_set = sc.inverse_transform(X_test), y_test\n",
    "X1, X2 = np.meshgrid(np.arange(start = X_set[:, 0].min() - 10, stop = X_set[:, 0].max() + 10, step = 0.25),\n",
    "                     np.arange(start = X_set[:, 1].min() - 1000, stop = X_set[:, 1].max() + 1000, step = 0.25))\n",
    "plt.contourf(X1, X2, classifier.predict(sc.transform(np.array([X1.ravel(), X2.ravel()]).T)).reshape(X1.shape),\n",
    "             alpha = 0.75, cmap = ListedColormap(('red', 'green')))\n",
    "plt.xlim(X1.min(), X1.max())\n",
    "plt.ylim(X2.min(), X2.max())\n",
    "for i, j in enumerate(np.unique(y_set)):\n",
    "    plt.scatter(X_set[y_set == j, 0], X_set[y_set == j, 1], c = ListedColormap(('red', 'green'))(i), label = j)\n",
    "plt.title('Logistic Regression (Test set)')\n",
    "plt.xlabel('Age')\n",
    "plt.ylabel('Estimated Salary')\n",
    "plt.legend()\n",
    "plt.show()"
   ]
  },
  {
   "cell_type": "code",
   "execution_count": null,
   "metadata": {},
   "outputs": [],
   "source": []
  }
 ],
 "metadata": {
  "kernelspec": {
   "display_name": "Python 3",
   "language": "python",
   "name": "python3"
  },
  "language_info": {
   "codemirror_mode": {
    "name": "ipython",
    "version": 3
   },
   "file_extension": ".py",
   "mimetype": "text/x-python",
   "name": "python",
   "nbconvert_exporter": "python",
   "pygments_lexer": "ipython3",
   "version": "3.6.10"
  }
 },
 "nbformat": 4,
 "nbformat_minor": 4
}
