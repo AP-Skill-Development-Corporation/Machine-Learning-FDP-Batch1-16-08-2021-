{
 "cells": [
  {
   "cell_type": "markdown",
   "metadata": {
    "id": "ZgDrBKfmI3_t"
   },
   "source": [
    "# Linear Regression problem - Multi variable\n",
    "We have seen the concept of simple linear regression where a single predictor\n",
    "variable X was used to model the response variable Y . In many applications, there\n",
    "is more than one factor that influences the response. Multiple regression models\n",
    "thus describe how a single response variable Y depends linearly on a number of\n",
    "predictor variables.\n",
    "\n",
    "Examples:\n",
    "\n",
    "The selling price of a house can depend on the desirability of the location, the number of bedrooms, the number of bathrooms, the year the house was built,\n",
    "the square footage of the lot and a number of other factors.\n",
    "\n",
    "Stock price prediction - It can dpend on the overall market trend, performance of that particular stock over a given preiod of time and many more.\n",
    "\n",
    "---\n",
    "Now we wil create a multivariable  regression modet. This time we will not hard code our training data, we will try to read it from file.\n",
    "\n",
    "We will follow the same steps as that of Uni variable Regression model.\n",
    "\n",
    "\n",
    "1.   Import libraries\n",
    "2.   Get training data.\n",
    "3.   Data Pre-processing\n",
    "4.   Train the model\n",
    "5.   Evaluate model performance\n",
    "6.   Use trained model to Predict on unseen data.\n",
    "\n",
    "\n"
   ]
  },
  {
   "cell_type": "markdown",
   "metadata": {
    "id": "aTS8VnLDBVk5"
   },
   "source": [
    "### Step 1 - Import Required Libraries"
   ]
  },
  {
   "cell_type": "code",
   "execution_count": 48,
   "metadata": {
    "colab": {
     "base_uri": "https://localhost:8080/"
    },
    "executionInfo": {
     "elapsed": 830,
     "status": "ok",
     "timestamp": 1619845621416,
     "user": {
      "displayName": "Skill Squad",
      "photoUrl": "",
      "userId": "03160552580709702023"
     },
     "user_tz": -330
    },
    "id": "6cWwNNdODWKI",
    "outputId": "57239db3-a7b1-4356-a7e5-88c7a5ba3ef0"
   },
   "outputs": [
    {
     "name": "stdout",
     "output_type": "stream",
     "text": [
      "Drive already mounted at /content/drive; to attempt to forcibly remount, call drive.mount(\"/content/drive\", force_remount=True).\n"
     ]
    }
   ],
   "source": [
    "from google.colab import drive\n",
    "drive.mount('/content/drive')"
   ]
  },
  {
   "cell_type": "code",
   "execution_count": 49,
   "metadata": {
    "executionInfo": {
     "elapsed": 2142,
     "status": "ok",
     "timestamp": 1619845622737,
     "user": {
      "displayName": "Skill Squad",
      "photoUrl": "",
      "userId": "03160552580709702023"
     },
     "user_tz": -330
    },
    "id": "EKs39IPa-s8U"
   },
   "outputs": [],
   "source": [
    "import numpy as np\n",
    "import pandas as pd\n",
    "from sklearn.linear_model import LinearRegression\n",
    "import matplotlib.pyplot as plt "
   ]
  },
  {
   "cell_type": "markdown",
   "metadata": {
    "id": "kdRpeji4Bcrr"
   },
   "source": [
    "### Step 2 - Get Training Data\n",
    "We will use US startup's data and will try to predict their profit based on their spending in different areas (R&D Spend, Administration and Marketing Spend) and their location(New York, California and Florida).\n",
    "\n",
    "Let's first read the data and see how it looks."
   ]
  },
  {
   "cell_type": "code",
   "execution_count": 50,
   "metadata": {
    "colab": {
     "base_uri": "https://localhost:8080/",
     "height": 352
    },
    "executionInfo": {
     "elapsed": 2136,
     "status": "ok",
     "timestamp": 1619845622739,
     "user": {
      "displayName": "Skill Squad",
      "photoUrl": "",
      "userId": "03160552580709702023"
     },
     "user_tz": -330
    },
    "id": "4lvingfE_EEn",
    "outputId": "faa9c4bb-4ddd-4ce0-dafc-13c609d95a13"
   },
   "outputs": [
    {
     "data": {
      "text/html": [
       "<div>\n",
       "<style scoped>\n",
       "    .dataframe tbody tr th:only-of-type {\n",
       "        vertical-align: middle;\n",
       "    }\n",
       "\n",
       "    .dataframe tbody tr th {\n",
       "        vertical-align: top;\n",
       "    }\n",
       "\n",
       "    .dataframe thead th {\n",
       "        text-align: right;\n",
       "    }\n",
       "</style>\n",
       "<table border=\"1\" class=\"dataframe\">\n",
       "  <thead>\n",
       "    <tr style=\"text-align: right;\">\n",
       "      <th></th>\n",
       "      <th>R&amp;D Spend</th>\n",
       "      <th>Administration</th>\n",
       "      <th>Marketing Spend</th>\n",
       "      <th>State</th>\n",
       "      <th>Profit</th>\n",
       "    </tr>\n",
       "  </thead>\n",
       "  <tbody>\n",
       "    <tr>\n",
       "      <th>0</th>\n",
       "      <td>165349.20</td>\n",
       "      <td>136897.80</td>\n",
       "      <td>471784.10</td>\n",
       "      <td>New York</td>\n",
       "      <td>192261.83</td>\n",
       "    </tr>\n",
       "    <tr>\n",
       "      <th>1</th>\n",
       "      <td>162597.70</td>\n",
       "      <td>151377.59</td>\n",
       "      <td>443898.53</td>\n",
       "      <td>California</td>\n",
       "      <td>191792.06</td>\n",
       "    </tr>\n",
       "    <tr>\n",
       "      <th>2</th>\n",
       "      <td>153441.51</td>\n",
       "      <td>101145.55</td>\n",
       "      <td>407934.54</td>\n",
       "      <td>Florida</td>\n",
       "      <td>191050.39</td>\n",
       "    </tr>\n",
       "    <tr>\n",
       "      <th>3</th>\n",
       "      <td>144372.41</td>\n",
       "      <td>118671.85</td>\n",
       "      <td>383199.62</td>\n",
       "      <td>New York</td>\n",
       "      <td>182901.99</td>\n",
       "    </tr>\n",
       "    <tr>\n",
       "      <th>4</th>\n",
       "      <td>142107.34</td>\n",
       "      <td>91391.77</td>\n",
       "      <td>366168.42</td>\n",
       "      <td>Florida</td>\n",
       "      <td>166187.94</td>\n",
       "    </tr>\n",
       "    <tr>\n",
       "      <th>5</th>\n",
       "      <td>131876.90</td>\n",
       "      <td>99814.71</td>\n",
       "      <td>362861.36</td>\n",
       "      <td>New York</td>\n",
       "      <td>156991.12</td>\n",
       "    </tr>\n",
       "    <tr>\n",
       "      <th>6</th>\n",
       "      <td>134615.46</td>\n",
       "      <td>147198.87</td>\n",
       "      <td>127716.82</td>\n",
       "      <td>California</td>\n",
       "      <td>156122.51</td>\n",
       "    </tr>\n",
       "    <tr>\n",
       "      <th>7</th>\n",
       "      <td>130298.13</td>\n",
       "      <td>145530.06</td>\n",
       "      <td>323876.68</td>\n",
       "      <td>Florida</td>\n",
       "      <td>155752.60</td>\n",
       "    </tr>\n",
       "    <tr>\n",
       "      <th>8</th>\n",
       "      <td>120542.52</td>\n",
       "      <td>148718.95</td>\n",
       "      <td>311613.29</td>\n",
       "      <td>New York</td>\n",
       "      <td>152211.77</td>\n",
       "    </tr>\n",
       "    <tr>\n",
       "      <th>9</th>\n",
       "      <td>123334.88</td>\n",
       "      <td>108679.17</td>\n",
       "      <td>304981.62</td>\n",
       "      <td>California</td>\n",
       "      <td>149759.96</td>\n",
       "    </tr>\n",
       "  </tbody>\n",
       "</table>\n",
       "</div>"
      ],
      "text/plain": [
       "   R&D Spend  Administration  Marketing Spend       State     Profit\n",
       "0  165349.20       136897.80        471784.10    New York  192261.83\n",
       "1  162597.70       151377.59        443898.53  California  191792.06\n",
       "2  153441.51       101145.55        407934.54     Florida  191050.39\n",
       "3  144372.41       118671.85        383199.62    New York  182901.99\n",
       "4  142107.34        91391.77        366168.42     Florida  166187.94\n",
       "5  131876.90        99814.71        362861.36    New York  156991.12\n",
       "6  134615.46       147198.87        127716.82  California  156122.51\n",
       "7  130298.13       145530.06        323876.68     Florida  155752.60\n",
       "8  120542.52       148718.95        311613.29    New York  152211.77\n",
       "9  123334.88       108679.17        304981.62  California  149759.96"
      ]
     },
     "execution_count": 50,
     "metadata": {
      "tags": []
     },
     "output_type": "execute_result"
    }
   ],
   "source": [
    "dataset = pd.read_csv('/content/drive/My Drive/skill-squad training/Linear Regression/50_Startups.csv')\n",
    "dataset.head(10)"
   ]
  },
  {
   "cell_type": "markdown",
   "metadata": {
    "id": "Lxl5VvjYmX8j"
   },
   "source": [
    "###Step 3 - Data Preprocessing"
   ]
  },
  {
   "cell_type": "markdown",
   "metadata": {
    "id": "cGHdO1r7m4sD"
   },
   "source": [
    "Separate Feature and target variables"
   ]
  },
  {
   "cell_type": "code",
   "execution_count": 51,
   "metadata": {
    "colab": {
     "base_uri": "https://localhost:8080/",
     "height": 200
    },
    "executionInfo": {
     "elapsed": 2123,
     "status": "ok",
     "timestamp": 1619845622741,
     "user": {
      "displayName": "Skill Squad",
      "photoUrl": "",
      "userId": "03160552580709702023"
     },
     "user_tz": -330
    },
    "id": "6bmKqIk9m4JC",
    "outputId": "911dc6b9-c14f-4f5f-ecb1-71ad58c28c86"
   },
   "outputs": [
    {
     "data": {
      "text/html": [
       "<div>\n",
       "<style scoped>\n",
       "    .dataframe tbody tr th:only-of-type {\n",
       "        vertical-align: middle;\n",
       "    }\n",
       "\n",
       "    .dataframe tbody tr th {\n",
       "        vertical-align: top;\n",
       "    }\n",
       "\n",
       "    .dataframe thead th {\n",
       "        text-align: right;\n",
       "    }\n",
       "</style>\n",
       "<table border=\"1\" class=\"dataframe\">\n",
       "  <thead>\n",
       "    <tr style=\"text-align: right;\">\n",
       "      <th></th>\n",
       "      <th>R&amp;D Spend</th>\n",
       "      <th>Administration</th>\n",
       "      <th>Marketing Spend</th>\n",
       "      <th>State</th>\n",
       "    </tr>\n",
       "  </thead>\n",
       "  <tbody>\n",
       "    <tr>\n",
       "      <th>0</th>\n",
       "      <td>165349.20</td>\n",
       "      <td>136897.80</td>\n",
       "      <td>471784.10</td>\n",
       "      <td>New York</td>\n",
       "    </tr>\n",
       "    <tr>\n",
       "      <th>1</th>\n",
       "      <td>162597.70</td>\n",
       "      <td>151377.59</td>\n",
       "      <td>443898.53</td>\n",
       "      <td>California</td>\n",
       "    </tr>\n",
       "    <tr>\n",
       "      <th>2</th>\n",
       "      <td>153441.51</td>\n",
       "      <td>101145.55</td>\n",
       "      <td>407934.54</td>\n",
       "      <td>Florida</td>\n",
       "    </tr>\n",
       "    <tr>\n",
       "      <th>3</th>\n",
       "      <td>144372.41</td>\n",
       "      <td>118671.85</td>\n",
       "      <td>383199.62</td>\n",
       "      <td>New York</td>\n",
       "    </tr>\n",
       "    <tr>\n",
       "      <th>4</th>\n",
       "      <td>142107.34</td>\n",
       "      <td>91391.77</td>\n",
       "      <td>366168.42</td>\n",
       "      <td>Florida</td>\n",
       "    </tr>\n",
       "  </tbody>\n",
       "</table>\n",
       "</div>"
      ],
      "text/plain": [
       "   R&D Spend  Administration  Marketing Spend       State\n",
       "0  165349.20       136897.80        471784.10    New York\n",
       "1  162597.70       151377.59        443898.53  California\n",
       "2  153441.51       101145.55        407934.54     Florida\n",
       "3  144372.41       118671.85        383199.62    New York\n",
       "4  142107.34        91391.77        366168.42     Florida"
      ]
     },
     "execution_count": 51,
     "metadata": {
      "tags": []
     },
     "output_type": "execute_result"
    }
   ],
   "source": [
    "X = dataset.drop(['Profit'], axis=1)\n",
    "Y = dataset['Profit']\n",
    "X.head()"
   ]
  },
  {
   "cell_type": "code",
   "execution_count": 52,
   "metadata": {
    "colab": {
     "base_uri": "https://localhost:8080/"
    },
    "executionInfo": {
     "elapsed": 2116,
     "status": "ok",
     "timestamp": 1619845622745,
     "user": {
      "displayName": "Skill Squad",
      "photoUrl": "",
      "userId": "03160552580709702023"
     },
     "user_tz": -330
    },
    "id": "EYhtkGhDFecV",
    "outputId": "de906885-4348-44eb-9ca9-c3db9ae7ec10"
   },
   "outputs": [
    {
     "data": {
      "text/plain": [
       "0    192261.83\n",
       "1    191792.06\n",
       "2    191050.39\n",
       "3    182901.99\n",
       "4    166187.94\n",
       "Name: Profit, dtype: float64"
      ]
     },
     "execution_count": 52,
     "metadata": {
      "tags": []
     },
     "output_type": "execute_result"
    }
   ],
   "source": [
    "Y.head()"
   ]
  },
  {
   "cell_type": "markdown",
   "metadata": {
    "id": "0VUOCwcMLW0W"
   },
   "source": [
    "Now before we train our model, we will split the dataset into training and test set.\n",
    "\n",
    "Training set - will be used for model training\n",
    "\n",
    "Test set - Will be used for model validation\n",
    "\n",
    "We have one split function readily available from skleanr, will make use of same."
   ]
  },
  {
   "cell_type": "code",
   "execution_count": 53,
   "metadata": {
    "executionInfo": {
     "elapsed": 2112,
     "status": "ok",
     "timestamp": 1619845622747,
     "user": {
      "displayName": "Skill Squad",
      "photoUrl": "",
      "userId": "03160552580709702023"
     },
     "user_tz": -330
    },
    "id": "l-9RxojILXlg"
   },
   "outputs": [],
   "source": [
    "from sklearn.model_selection import train_test_split\n",
    "X_train, X_test, Y_train, Y_test = train_test_split(X, Y, test_size=0.2)"
   ]
  },
  {
   "cell_type": "code",
   "execution_count": 54,
   "metadata": {
    "colab": {
     "base_uri": "https://localhost:8080/"
    },
    "executionInfo": {
     "elapsed": 2111,
     "status": "ok",
     "timestamp": 1619845622751,
     "user": {
      "displayName": "Skill Squad",
      "photoUrl": "",
      "userId": "03160552580709702023"
     },
     "user_tz": -330
    },
    "id": "lhl8_2XzHbYx",
    "outputId": "ade44b06-721c-48ea-ab19-ce2a71213317"
   },
   "outputs": [
    {
     "data": {
      "text/plain": [
       "(50, 4)"
      ]
     },
     "execution_count": 54,
     "metadata": {
      "tags": []
     },
     "output_type": "execute_result"
    }
   ],
   "source": [
    "X.shape"
   ]
  },
  {
   "cell_type": "code",
   "execution_count": 55,
   "metadata": {
    "colab": {
     "base_uri": "https://localhost:8080/"
    },
    "executionInfo": {
     "elapsed": 2105,
     "status": "ok",
     "timestamp": 1619845622752,
     "user": {
      "displayName": "Skill Squad",
      "photoUrl": "",
      "userId": "03160552580709702023"
     },
     "user_tz": -330
    },
    "id": "zPPGe-D5HsOS",
    "outputId": "8d23b9ad-7e54-462b-edcc-260adfd25915"
   },
   "outputs": [
    {
     "data": {
      "text/plain": [
       "(40, 4)"
      ]
     },
     "execution_count": 55,
     "metadata": {
      "tags": []
     },
     "output_type": "execute_result"
    }
   ],
   "source": [
    "X_train.shape"
   ]
  },
  {
   "cell_type": "code",
   "execution_count": 56,
   "metadata": {
    "colab": {
     "base_uri": "https://localhost:8080/"
    },
    "executionInfo": {
     "elapsed": 2101,
     "status": "ok",
     "timestamp": 1619845622754,
     "user": {
      "displayName": "Skill Squad",
      "photoUrl": "",
      "userId": "03160552580709702023"
     },
     "user_tz": -330
    },
    "id": "f2CD3zp1KDx7",
    "outputId": "fec7bc7f-4c0c-452a-a4e9-d3ed1cc8357f"
   },
   "outputs": [
    {
     "data": {
      "text/plain": [
       "(10, 4)"
      ]
     },
     "execution_count": 56,
     "metadata": {
      "tags": []
     },
     "output_type": "execute_result"
    }
   ],
   "source": [
    "X_test.shape"
   ]
  },
  {
   "cell_type": "markdown",
   "metadata": {
    "id": "XvpVOxZJMbTi"
   },
   "source": [
    "###Missing Values"
   ]
  },
  {
   "cell_type": "code",
   "execution_count": 57,
   "metadata": {
    "colab": {
     "base_uri": "https://localhost:8080/"
    },
    "executionInfo": {
     "elapsed": 2096,
     "status": "ok",
     "timestamp": 1619845622755,
     "user": {
      "displayName": "Skill Squad",
      "photoUrl": "",
      "userId": "03160552580709702023"
     },
     "user_tz": -330
    },
    "id": "iNqT782WJvL5",
    "outputId": "36d8b5ea-2208-41be-d633-51aa56215942"
   },
   "outputs": [
    {
     "data": {
      "text/plain": [
       "R&D Spend          0\n",
       "Administration     0\n",
       "Marketing Spend    0\n",
       "State              0\n",
       "dtype: int64"
      ]
     },
     "execution_count": 57,
     "metadata": {
      "tags": []
     },
     "output_type": "execute_result"
    }
   ],
   "source": [
    "X_train.isnull().sum()"
   ]
  },
  {
   "cell_type": "code",
   "execution_count": 58,
   "metadata": {
    "colab": {
     "base_uri": "https://localhost:8080/"
    },
    "executionInfo": {
     "elapsed": 2089,
     "status": "ok",
     "timestamp": 1619845622756,
     "user": {
      "displayName": "Skill Squad",
      "photoUrl": "",
      "userId": "03160552580709702023"
     },
     "user_tz": -330
    },
    "id": "mOIPeIOMTrAf",
    "outputId": "586e2ce2-c2e3-412c-c4df-ee939fa0797c"
   },
   "outputs": [
    {
     "data": {
      "text/plain": [
       "R&D Spend          0\n",
       "Administration     0\n",
       "Marketing Spend    0\n",
       "State              0\n",
       "dtype: int64"
      ]
     },
     "execution_count": 58,
     "metadata": {
      "tags": []
     },
     "output_type": "execute_result"
    }
   ],
   "source": [
    "X_test.isnull().sum()"
   ]
  },
  {
   "cell_type": "markdown",
   "metadata": {
    "id": "DwGoHWJClGv8"
   },
   "source": [
    "We have categorical column - \"State\" which can not be consumed directly for model training. we will have to convert state to numerical data.\n",
    "\n",
    "Here we have two options to use for encoding - Label Encoder and One Hot Encoder\n",
    "\n",
    "Label Encoder - Encode target labels with value between 0 and n_classes-1.\n",
    "\n",
    "One Hot Encoder - Encode categorical features as a one-hot numeric array\n",
    "\n",
    "Here, we will uss One Hot Encoder to convert State column to 3 different columns one  for each state. For this we will use OneHotEncoder library from sklearn.preprocessing"
   ]
  },
  {
   "cell_type": "code",
   "execution_count": 59,
   "metadata": {
    "executionInfo": {
     "elapsed": 2085,
     "status": "ok",
     "timestamp": 1619845622756,
     "user": {
      "displayName": "Skill Squad",
      "photoUrl": "",
      "userId": "03160552580709702023"
     },
     "user_tz": -330
    },
    "id": "U26bhdHBuQ7g"
   },
   "outputs": [],
   "source": [
    "X_train = X_train.reset_index(drop=True)\n",
    "X_test = X_test.reset_index(drop=True)"
   ]
  },
  {
   "cell_type": "code",
   "execution_count": 60,
   "metadata": {
    "colab": {
     "base_uri": "https://localhost:8080/"
    },
    "executionInfo": {
     "elapsed": 2076,
     "status": "ok",
     "timestamp": 1619845622757,
     "user": {
      "displayName": "Skill Squad",
      "photoUrl": "",
      "userId": "03160552580709702023"
     },
     "user_tz": -330
    },
    "id": "y8upt6KBUbhz",
    "outputId": "18d2d403-2079-4240-d521-a46a74dfffba"
   },
   "outputs": [
    {
     "name": "stdout",
     "output_type": "stream",
     "text": [
      "    R&D Spend  Administration  Marketing Spend       State\n",
      "0    94657.16       145077.58        282574.31    New York\n",
      "1    86419.70       153514.11             0.00    New York\n",
      "2   142107.34        91391.77        366168.42     Florida\n",
      "3    46426.07       157693.92        210797.67  California\n",
      "4    64664.71       139553.16        137962.62  California\n",
      "5   114523.61       122616.84        261776.23    New York\n",
      "6    27892.92        84710.77        164470.71     Florida\n",
      "7    22177.74       154806.14         28334.72  California\n",
      "8    63408.86       129219.61         46085.25  California\n",
      "9    23640.93        96189.63        148001.11  California\n",
      "10  101913.08       110594.11        229160.95     Florida\n",
      "11   55493.95       103057.49        214634.81     Florida\n",
      "12   66051.52       182645.56        118148.20     Florida\n",
      "13   61994.48       115641.28         91131.24     Florida\n",
      "14  162597.70       151377.59        443898.53  California\n",
      "15   15505.73       127382.30         35534.17    New York\n",
      "16   28754.33       118546.05        172795.67  California\n",
      "17   93863.75       127320.38        249839.44     Florida\n",
      "18   75328.87       144135.98        134050.07     Florida\n",
      "19     542.05        51743.15             0.00    New York\n",
      "20       0.00       135426.92             0.00  California\n",
      "21    1000.23       124153.04          1903.93    New York\n",
      "22   38558.51        82982.09        174999.30  California\n",
      "23   44069.95        51283.14        197029.42  California\n",
      "24  153441.51       101145.55        407934.54     Florida\n",
      "25  165349.20       136897.80        471784.10    New York\n",
      "26   73994.56       122782.75        303319.26     Florida\n",
      "27  119943.24       156547.42        256512.92     Florida\n",
      "28   91749.16       114175.79        294919.57     Florida\n",
      "29   46014.02        85047.44        205517.64    New York\n",
      "30       0.00       116983.80         45173.06  California\n",
      "31  123334.88       108679.17        304981.62  California\n",
      "32  144372.41       118671.85        383199.62    New York\n",
      "33   78013.11       121597.55        264346.06  California\n",
      "34   77044.01        99281.34        140574.81    New York\n",
      "35  131876.90        99814.71        362861.36    New York\n",
      "36    1315.46       115816.21        297114.46     Florida\n",
      "37   20229.59        65947.93        185265.10    New York\n",
      "38   91992.39       135495.07        252664.93  California\n",
      "39  130298.13       145530.06        323876.68     Florida\n"
     ]
    }
   ],
   "source": [
    "print(X_train)"
   ]
  },
  {
   "cell_type": "code",
   "execution_count": 61,
   "metadata": {
    "executionInfo": {
     "elapsed": 2070,
     "status": "ok",
     "timestamp": 1619845622757,
     "user": {
      "displayName": "Skill Squad",
      "photoUrl": "",
      "userId": "03160552580709702023"
     },
     "user_tz": -330
    },
    "id": "_fCFXp2_me3c"
   },
   "outputs": [],
   "source": [
    "from sklearn.preprocessing import OneHotEncoder\n",
    "ohe_state = OneHotEncoder()\n",
    "X_train_state = pd.DataFrame(ohe_state.fit_transform(X_train[['State']]).toarray())"
   ]
  },
  {
   "cell_type": "markdown",
   "metadata": {
    "id": "ffgpoudOLEc5"
   },
   "source": [
    "Now concatenate the encoded values and drop the State column from the dataset as we need it now."
   ]
  },
  {
   "cell_type": "code",
   "execution_count": 62,
   "metadata": {
    "colab": {
     "base_uri": "https://localhost:8080/",
     "height": 200
    },
    "executionInfo": {
     "elapsed": 2064,
     "status": "ok",
     "timestamp": 1619845622758,
     "user": {
      "displayName": "Skill Squad",
      "photoUrl": "",
      "userId": "03160552580709702023"
     },
     "user_tz": -330
    },
    "id": "2eCMpIZOohG6",
    "outputId": "1e0ce49e-ed08-46d8-ae34-8fc4e8b00397"
   },
   "outputs": [
    {
     "data": {
      "text/html": [
       "<div>\n",
       "<style scoped>\n",
       "    .dataframe tbody tr th:only-of-type {\n",
       "        vertical-align: middle;\n",
       "    }\n",
       "\n",
       "    .dataframe tbody tr th {\n",
       "        vertical-align: top;\n",
       "    }\n",
       "\n",
       "    .dataframe thead th {\n",
       "        text-align: right;\n",
       "    }\n",
       "</style>\n",
       "<table border=\"1\" class=\"dataframe\">\n",
       "  <thead>\n",
       "    <tr style=\"text-align: right;\">\n",
       "      <th></th>\n",
       "      <th>R&amp;D Spend</th>\n",
       "      <th>Administration</th>\n",
       "      <th>Marketing Spend</th>\n",
       "      <th>0</th>\n",
       "      <th>1</th>\n",
       "      <th>2</th>\n",
       "    </tr>\n",
       "  </thead>\n",
       "  <tbody>\n",
       "    <tr>\n",
       "      <th>0</th>\n",
       "      <td>94657.16</td>\n",
       "      <td>145077.58</td>\n",
       "      <td>282574.31</td>\n",
       "      <td>0.0</td>\n",
       "      <td>0.0</td>\n",
       "      <td>1.0</td>\n",
       "    </tr>\n",
       "    <tr>\n",
       "      <th>1</th>\n",
       "      <td>86419.70</td>\n",
       "      <td>153514.11</td>\n",
       "      <td>0.00</td>\n",
       "      <td>0.0</td>\n",
       "      <td>0.0</td>\n",
       "      <td>1.0</td>\n",
       "    </tr>\n",
       "    <tr>\n",
       "      <th>2</th>\n",
       "      <td>142107.34</td>\n",
       "      <td>91391.77</td>\n",
       "      <td>366168.42</td>\n",
       "      <td>0.0</td>\n",
       "      <td>1.0</td>\n",
       "      <td>0.0</td>\n",
       "    </tr>\n",
       "    <tr>\n",
       "      <th>3</th>\n",
       "      <td>46426.07</td>\n",
       "      <td>157693.92</td>\n",
       "      <td>210797.67</td>\n",
       "      <td>1.0</td>\n",
       "      <td>0.0</td>\n",
       "      <td>0.0</td>\n",
       "    </tr>\n",
       "    <tr>\n",
       "      <th>4</th>\n",
       "      <td>64664.71</td>\n",
       "      <td>139553.16</td>\n",
       "      <td>137962.62</td>\n",
       "      <td>1.0</td>\n",
       "      <td>0.0</td>\n",
       "      <td>0.0</td>\n",
       "    </tr>\n",
       "  </tbody>\n",
       "</table>\n",
       "</div>"
      ],
      "text/plain": [
       "   R&D Spend  Administration  Marketing Spend    0    1    2\n",
       "0   94657.16       145077.58        282574.31  0.0  0.0  1.0\n",
       "1   86419.70       153514.11             0.00  0.0  0.0  1.0\n",
       "2  142107.34        91391.77        366168.42  0.0  1.0  0.0\n",
       "3   46426.07       157693.92        210797.67  1.0  0.0  0.0\n",
       "4   64664.71       139553.16        137962.62  1.0  0.0  0.0"
      ]
     },
     "execution_count": 62,
     "metadata": {
      "tags": []
     },
     "output_type": "execute_result"
    }
   ],
   "source": [
    "X_train = pd.concat([X_train, X_train_state], axis=1)\n",
    "X_train = X_train.drop(['State'], axis=1)\n",
    "X_train.head()"
   ]
  },
  {
   "cell_type": "code",
   "execution_count": 63,
   "metadata": {
    "colab": {
     "base_uri": "https://localhost:8080/",
     "height": 200
    },
    "executionInfo": {
     "elapsed": 2055,
     "status": "ok",
     "timestamp": 1619845622759,
     "user": {
      "displayName": "Skill Squad",
      "photoUrl": "",
      "userId": "03160552580709702023"
     },
     "user_tz": -330
    },
    "id": "uyx0jirzt_Yo",
    "outputId": "a4ad30ef-00db-4502-9fbb-ccb25ef47e60"
   },
   "outputs": [
    {
     "data": {
      "text/html": [
       "<div>\n",
       "<style scoped>\n",
       "    .dataframe tbody tr th:only-of-type {\n",
       "        vertical-align: middle;\n",
       "    }\n",
       "\n",
       "    .dataframe tbody tr th {\n",
       "        vertical-align: top;\n",
       "    }\n",
       "\n",
       "    .dataframe thead th {\n",
       "        text-align: right;\n",
       "    }\n",
       "</style>\n",
       "<table border=\"1\" class=\"dataframe\">\n",
       "  <thead>\n",
       "    <tr style=\"text-align: right;\">\n",
       "      <th></th>\n",
       "      <th>R&amp;D Spend</th>\n",
       "      <th>Administration</th>\n",
       "      <th>Marketing Spend</th>\n",
       "      <th>0</th>\n",
       "      <th>1</th>\n",
       "      <th>2</th>\n",
       "    </tr>\n",
       "  </thead>\n",
       "  <tbody>\n",
       "    <tr>\n",
       "      <th>0</th>\n",
       "      <td>78389.47</td>\n",
       "      <td>153773.43</td>\n",
       "      <td>299737.29</td>\n",
       "      <td>0.0</td>\n",
       "      <td>0.0</td>\n",
       "      <td>1.0</td>\n",
       "    </tr>\n",
       "    <tr>\n",
       "      <th>1</th>\n",
       "      <td>72107.60</td>\n",
       "      <td>127864.55</td>\n",
       "      <td>353183.81</td>\n",
       "      <td>0.0</td>\n",
       "      <td>0.0</td>\n",
       "      <td>1.0</td>\n",
       "    </tr>\n",
       "    <tr>\n",
       "      <th>2</th>\n",
       "      <td>120542.52</td>\n",
       "      <td>148718.95</td>\n",
       "      <td>311613.29</td>\n",
       "      <td>0.0</td>\n",
       "      <td>0.0</td>\n",
       "      <td>1.0</td>\n",
       "    </tr>\n",
       "    <tr>\n",
       "      <th>3</th>\n",
       "      <td>28663.76</td>\n",
       "      <td>127056.21</td>\n",
       "      <td>201126.82</td>\n",
       "      <td>0.0</td>\n",
       "      <td>1.0</td>\n",
       "      <td>0.0</td>\n",
       "    </tr>\n",
       "    <tr>\n",
       "      <th>4</th>\n",
       "      <td>67532.53</td>\n",
       "      <td>105751.03</td>\n",
       "      <td>304768.73</td>\n",
       "      <td>0.0</td>\n",
       "      <td>1.0</td>\n",
       "      <td>0.0</td>\n",
       "    </tr>\n",
       "  </tbody>\n",
       "</table>\n",
       "</div>"
      ],
      "text/plain": [
       "   R&D Spend  Administration  Marketing Spend    0    1    2\n",
       "0   78389.47       153773.43        299737.29  0.0  0.0  1.0\n",
       "1   72107.60       127864.55        353183.81  0.0  0.0  1.0\n",
       "2  120542.52       148718.95        311613.29  0.0  0.0  1.0\n",
       "3   28663.76       127056.21        201126.82  0.0  1.0  0.0\n",
       "4   67532.53       105751.03        304768.73  0.0  1.0  0.0"
      ]
     },
     "execution_count": 63,
     "metadata": {
      "tags": []
     },
     "output_type": "execute_result"
    }
   ],
   "source": [
    "X_test_state = pd.DataFrame(ohe_state.transform(X_test[['State']]).toarray())\n",
    "X_test = pd.concat([X_test, X_test_state], axis=1)\n",
    "X_test = X_test.drop(['State'], axis=1)\n",
    "X_test.head()"
   ]
  },
  {
   "cell_type": "code",
   "execution_count": 64,
   "metadata": {
    "executionInfo": {
     "elapsed": 2048,
     "status": "ok",
     "timestamp": 1619845622760,
     "user": {
      "displayName": "Skill Squad",
      "photoUrl": "",
      "userId": "03160552580709702023"
     },
     "user_tz": -330
    },
    "id": "ImyP5yFzICOL"
   },
   "outputs": [],
   "source": [
    "#Feature Scaling\n",
    "from sklearn.preprocessing import StandardScaler\n",
    "sc = StandardScaler()\n",
    "X_train = sc.fit_transform(X_train)\n",
    "X_test = sc.transform(X_test)"
   ]
  },
  {
   "cell_type": "code",
   "execution_count": 65,
   "metadata": {
    "colab": {
     "base_uri": "https://localhost:8080/"
    },
    "executionInfo": {
     "elapsed": 2044,
     "status": "ok",
     "timestamp": 1619845622761,
     "user": {
      "displayName": "Skill Squad",
      "photoUrl": "",
      "userId": "03160552580709702023"
     },
     "user_tz": -330
    },
    "id": "YScq9IpcUbzz",
    "outputId": "db388c7b-803f-4b80-8a26-e383c02feae6"
   },
   "outputs": [
    {
     "data": {
      "text/plain": [
       "array([[ 0.13139132,  1.2332933 ,  0.74573659, -0.73379939, -0.73379939,\n",
       "         1.52752523],\n",
       "       [ 0.0019281 ,  0.32389012,  1.16748743, -0.73379939, -0.73379939,\n",
       "         1.52752523],\n",
       "       [ 1.0001246 ,  1.05588077,  0.83945108, -0.73379939, -0.73379939,\n",
       "         1.52752523],\n",
       "       [-0.89340711,  0.29551734, -0.03240664, -0.73379939,  1.36277029,\n",
       "        -0.65465367],\n",
       "       [-0.09235964, -0.4522957 ,  0.7854401 , -0.73379939,  1.36277029,\n",
       "        -0.65465367],\n",
       "       [ 0.59061172, -0.94230725,  0.35123982,  1.36277029, -0.73379939,\n",
       "        -0.65465367],\n",
       "       [ 1.29015418,  1.00252587, -0.61169092,  1.36277029, -0.73379939,\n",
       "        -0.65465367],\n",
       "       [-0.22417806,  1.19568324, -0.9233775 , -0.73379939, -0.73379939,\n",
       "         1.52752523],\n",
       "       [ 0.08737848, -0.16741416,  0.73727088,  1.36277029, -0.73379939,\n",
       "        -0.65465367],\n",
       "       [-0.13207426,  1.20727117, -0.77407706, -0.73379939, -0.73379939,\n",
       "         1.52752523]])"
      ]
     },
     "execution_count": 65,
     "metadata": {
      "tags": []
     },
     "output_type": "execute_result"
    }
   ],
   "source": [
    "X_test"
   ]
  },
  {
   "cell_type": "markdown",
   "metadata": {
    "id": "NYqpGSYKBe-p"
   },
   "source": [
    "### Step 4 - Train the model\n",
    "Train linear regression model with training dataset"
   ]
  },
  {
   "cell_type": "code",
   "execution_count": 66,
   "metadata": {
    "colab": {
     "base_uri": "https://localhost:8080/"
    },
    "executionInfo": {
     "elapsed": 2040,
     "status": "ok",
     "timestamp": 1619845622762,
     "user": {
      "displayName": "Skill Squad",
      "photoUrl": "",
      "userId": "03160552580709702023"
     },
     "user_tz": -330
    },
    "id": "1SEJYWajBKoY",
    "outputId": "a1693dac-f7ec-4ec4-9aa1-fed8a72ce66d"
   },
   "outputs": [
    {
     "data": {
      "text/plain": [
       "LinearRegression(copy_X=True, fit_intercept=True, n_jobs=None, normalize=False)"
      ]
     },
     "execution_count": 66,
     "metadata": {
      "tags": []
     },
     "output_type": "execute_result"
    }
   ],
   "source": [
    "lr_model = LinearRegression()\n",
    "lr_model.fit(X_train, Y_train)"
   ]
  },
  {
   "cell_type": "markdown",
   "metadata": {
    "id": "EO2KdBNCGnMu"
   },
   "source": [
    "### Step 5 - Model Evaluation\n",
    "Now use test set to predict the result. Predicted value will be compared with actual value to determine model accuracy"
   ]
  },
  {
   "cell_type": "code",
   "execution_count": 67,
   "metadata": {
    "colab": {
     "base_uri": "https://localhost:8080/"
    },
    "executionInfo": {
     "elapsed": 2039,
     "status": "ok",
     "timestamp": 1619845622767,
     "user": {
      "displayName": "Skill Squad",
      "photoUrl": "",
      "userId": "03160552580709702023"
     },
     "user_tz": -330
    },
    "id": "8FXUy8RMGMGN",
    "outputId": "78f4d8cb-6c44-4a3a-df3a-b1b23f75c9ee"
   },
   "outputs": [
    {
     "name": "stdout",
     "output_type": "stream",
     "text": [
      "[120218.13628257 117020.57394271 154140.13099304  74877.24829903\n",
      " 109246.88182893 134134.48503521 157026.82099433  99483.2340036\n",
      " 116316.03752882 103664.54538378]\n"
     ]
    }
   ],
   "source": [
    "y_pred = lr_model.predict(X_test)\n",
    "print(y_pred)"
   ]
  },
  {
   "cell_type": "code",
   "execution_count": 68,
   "metadata": {
    "colab": {
     "base_uri": "https://localhost:8080/"
    },
    "executionInfo": {
     "elapsed": 2445,
     "status": "ok",
     "timestamp": 1619845623178,
     "user": {
      "displayName": "Skill Squad",
      "photoUrl": "",
      "userId": "03160552580709702023"
     },
     "user_tz": -330
    },
    "id": "qxorWzfMWfuc",
    "outputId": "2f6c1e81-3f18-4e41-ea97-d5baea3e16ac"
   },
   "outputs": [
    {
     "name": "stdout",
     "output_type": "stream",
     "text": [
      "21    111313.02\n",
      "27    105008.31\n",
      "8     152211.77\n",
      "36     90708.19\n",
      "23    108733.99\n",
      "11    144259.40\n",
      "6     156122.51\n",
      "31     97483.56\n",
      "20    118474.03\n",
      "29    101004.64\n",
      "Name: Profit, dtype: float64\n"
     ]
    }
   ],
   "source": [
    "print(Y_test)"
   ]
  },
  {
   "cell_type": "markdown",
   "metadata": {
    "id": "dhBgk2w-VxtW"
   },
   "source": [
    "We can visualize the model performace through plot as we have multiple inputs and it is not possible to plot all of them in 2D. we will use loss function to evaluat model. For regression, we use MSE - Mean Squared Error for performance metrics."
   ]
  },
  {
   "cell_type": "code",
   "execution_count": 69,
   "metadata": {
    "colab": {
     "base_uri": "https://localhost:8080/"
    },
    "executionInfo": {
     "elapsed": 2441,
     "status": "ok",
     "timestamp": 1619845623179,
     "user": {
      "displayName": "Skill Squad",
      "photoUrl": "",
      "userId": "03160552580709702023"
     },
     "user_tz": -330
    },
    "id": "MhwsMJtDWI67",
    "outputId": "145376f4-ed55-4450-cf68-17e97bce1cbb"
   },
   "outputs": [
    {
     "name": "stdout",
     "output_type": "stream",
     "text": [
      "59725833.6018116\n"
     ]
    }
   ],
   "source": [
    "from sklearn.metrics import mean_squared_error\n",
    "print(mean_squared_error(Y_test, y_pred))"
   ]
  }
 ],
 "metadata": {
  "colab": {
   "collapsed_sections": [],
   "name": "Reg_model_2.ipynb",
   "provenance": [
    {
     "file_id": "18jvw1Y5MqN-l6Xuj-7PN_d0Kxkk3IYfZ",
     "timestamp": 1587388414488
    }
   ],
   "toc_visible": true
  },
  "kernelspec": {
   "display_name": "Python 3",
   "language": "python",
   "name": "python3"
  },
  "language_info": {
   "codemirror_mode": {
    "name": "ipython",
    "version": 3
   },
   "file_extension": ".py",
   "mimetype": "text/x-python",
   "name": "python",
   "nbconvert_exporter": "python",
   "pygments_lexer": "ipython3",
   "version": "3.8.3"
  }
 },
 "nbformat": 4,
 "nbformat_minor": 1
}
