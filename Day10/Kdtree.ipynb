{
 "cells": [
  {
   "cell_type": "code",
   "execution_count": null,
   "metadata": {},
   "outputs": [],
   "source": [
    "from binarytree import tree,Node\n",
    "from math import floor"
   ]
  },
  {
   "cell_type": "code",
   "execution_count": null,
   "metadata": {},
   "outputs": [],
   "source": [
    "class KD_Tree:\n",
    "    def __init__(self,data):\n",
    "        self.data=data\n",
    "        self.tree=None\n",
    "    def _build(self,points,depth):\n",
    "        k=len(points.columns)\n",
    "        _axis=depth % k\n",
    "        _column=points.columns[_axis]\n",
    "        if len(points)==0:\n",
    "            return None\n",
    "        object_list=points.sort_values(by=[_column],ascending=True)\n",
    "        if len(object_list) % 2 ==0:\n",
    "            median_idx=int(len(object_list)/2)\n",
    "        else:\n",
    "            median_idx=floor(len(object_list)/2)\n",
    "        node=Node(round(object_list.iloc[median_idx][_column],3))\n",
    "        node.left=self._build(object_list.iloc[0:median_idx],depth+1)\n",
    "        node.right=self._build(object_list.iloc[median_idx],depth+1)\n",
    "        \n",
    "        return node\n",
    "    def bulid(self):\n",
    "        self.tree-self._build(self.data=0)"
   ]
  },
  {
   "cell_type": "code",
   "execution_count": null,
   "metadata": {},
   "outputs": [],
   "source": [
    "test_df=pd.DataFrame(data=[[2,3],[5.4],[9,6],[8,1],[7,2]]),columns=[\"X\",\"Y\"]\n",
    "KD=KD_tree(test_df)\n",
    "KD.bulid()\n",
    "print(KD.tree)"
   ]
  }
 ],
 "metadata": {
  "kernelspec": {
   "display_name": "Python 3",
   "language": "python",
   "name": "python3"
  },
  "language_info": {
   "codemirror_mode": {
    "name": "ipython",
    "version": 3
   },
   "file_extension": ".py",
   "mimetype": "text/x-python",
   "name": "python",
   "nbconvert_exporter": "python",
   "pygments_lexer": "ipython3",
   "version": "3.8.3"
  }
 },
 "nbformat": 4,
 "nbformat_minor": 4
}
